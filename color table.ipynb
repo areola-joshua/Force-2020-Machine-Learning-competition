{
  "nbformat": 4,
  "nbformat_minor": 0,
  "metadata": {
    "colab": {
      "provenance": [],
      "authorship_tag": "ABX9TyMhpkt94MPfmILOXiV4awdz",
      "include_colab_link": true
    },
    "kernelspec": {
      "name": "python3",
      "display_name": "Python 3"
    },
    "language_info": {
      "name": "python"
    }
  },
  "cells": [
    {
      "cell_type": "markdown",
      "metadata": {
        "id": "view-in-github",
        "colab_type": "text"
      },
      "source": [
        "<a href=\"https://colab.research.google.com/github/areola-joshua/Force-2020-Machine-Learning-competition/blob/master/color%20table.ipynb\" target=\"_parent\"><img src=\"https://colab.research.google.com/assets/colab-badge.svg\" alt=\"Open In Colab\"/></a>"
      ]
    },
    {
      "cell_type": "code",
      "execution_count": 1,
      "metadata": {
        "id": "Gm68RZ_CJQph"
      },
      "outputs": [],
      "source": [
        "import numpy as np\n",
        "import pandas as pd"
      ]
    },
    {
      "cell_type": "code",
      "source": [
        "df = {'A': [1.7,2,0.5,1,4],\n",
        "      'B': [2,54,1,23,1],\n",
        "      'C': [np.nan,3,2,31,5]}"
      ],
      "metadata": {
        "id": "tW-a0iBAJYWv"
      },
      "execution_count": 2,
      "outputs": []
    },
    {
      "cell_type": "code",
      "source": [
        "df = pd.DataFrame(df)"
      ],
      "metadata": {
        "id": "wFcugl_FJyyq"
      },
      "execution_count": 5,
      "outputs": []
    },
    {
      "cell_type": "code",
      "source": [
        "df.head()"
      ],
      "metadata": {
        "colab": {
          "base_uri": "https://localhost:8080/",
          "height": 206
        },
        "id": "ydt_Azu7J5by",
        "outputId": "dff82201-7365-4ac1-bdc0-3eb5203e25af"
      },
      "execution_count": 6,
      "outputs": [
        {
          "output_type": "execute_result",
          "data": {
            "text/plain": [
              "     A   B     C\n",
              "0  1.7   2   NaN\n",
              "1  2.0  54   3.0\n",
              "2  0.5   1   2.0\n",
              "3  1.0  23  31.0\n",
              "4  4.0   1   5.0"
            ],
            "text/html": [
              "\n",
              "  <div id=\"df-b9c4e8ef-65b7-4d2b-ac99-d572ffb2c279\">\n",
              "    <div class=\"colab-df-container\">\n",
              "      <div>\n",
              "<style scoped>\n",
              "    .dataframe tbody tr th:only-of-type {\n",
              "        vertical-align: middle;\n",
              "    }\n",
              "\n",
              "    .dataframe tbody tr th {\n",
              "        vertical-align: top;\n",
              "    }\n",
              "\n",
              "    .dataframe thead th {\n",
              "        text-align: right;\n",
              "    }\n",
              "</style>\n",
              "<table border=\"1\" class=\"dataframe\">\n",
              "  <thead>\n",
              "    <tr style=\"text-align: right;\">\n",
              "      <th></th>\n",
              "      <th>A</th>\n",
              "      <th>B</th>\n",
              "      <th>C</th>\n",
              "    </tr>\n",
              "  </thead>\n",
              "  <tbody>\n",
              "    <tr>\n",
              "      <th>0</th>\n",
              "      <td>1.7</td>\n",
              "      <td>2</td>\n",
              "      <td>NaN</td>\n",
              "    </tr>\n",
              "    <tr>\n",
              "      <th>1</th>\n",
              "      <td>2.0</td>\n",
              "      <td>54</td>\n",
              "      <td>3.0</td>\n",
              "    </tr>\n",
              "    <tr>\n",
              "      <th>2</th>\n",
              "      <td>0.5</td>\n",
              "      <td>1</td>\n",
              "      <td>2.0</td>\n",
              "    </tr>\n",
              "    <tr>\n",
              "      <th>3</th>\n",
              "      <td>1.0</td>\n",
              "      <td>23</td>\n",
              "      <td>31.0</td>\n",
              "    </tr>\n",
              "    <tr>\n",
              "      <th>4</th>\n",
              "      <td>4.0</td>\n",
              "      <td>1</td>\n",
              "      <td>5.0</td>\n",
              "    </tr>\n",
              "  </tbody>\n",
              "</table>\n",
              "</div>\n",
              "      <button class=\"colab-df-convert\" onclick=\"convertToInteractive('df-b9c4e8ef-65b7-4d2b-ac99-d572ffb2c279')\"\n",
              "              title=\"Convert this dataframe to an interactive table.\"\n",
              "              style=\"display:none;\">\n",
              "        \n",
              "  <svg xmlns=\"http://www.w3.org/2000/svg\" height=\"24px\"viewBox=\"0 0 24 24\"\n",
              "       width=\"24px\">\n",
              "    <path d=\"M0 0h24v24H0V0z\" fill=\"none\"/>\n",
              "    <path d=\"M18.56 5.44l.94 2.06.94-2.06 2.06-.94-2.06-.94-.94-2.06-.94 2.06-2.06.94zm-11 1L8.5 8.5l.94-2.06 2.06-.94-2.06-.94L8.5 2.5l-.94 2.06-2.06.94zm10 10l.94 2.06.94-2.06 2.06-.94-2.06-.94-.94-2.06-.94 2.06-2.06.94z\"/><path d=\"M17.41 7.96l-1.37-1.37c-.4-.4-.92-.59-1.43-.59-.52 0-1.04.2-1.43.59L10.3 9.45l-7.72 7.72c-.78.78-.78 2.05 0 2.83L4 21.41c.39.39.9.59 1.41.59.51 0 1.02-.2 1.41-.59l7.78-7.78 2.81-2.81c.8-.78.8-2.07 0-2.86zM5.41 20L4 18.59l7.72-7.72 1.47 1.35L5.41 20z\"/>\n",
              "  </svg>\n",
              "      </button>\n",
              "      \n",
              "  <style>\n",
              "    .colab-df-container {\n",
              "      display:flex;\n",
              "      flex-wrap:wrap;\n",
              "      gap: 12px;\n",
              "    }\n",
              "\n",
              "    .colab-df-convert {\n",
              "      background-color: #E8F0FE;\n",
              "      border: none;\n",
              "      border-radius: 50%;\n",
              "      cursor: pointer;\n",
              "      display: none;\n",
              "      fill: #1967D2;\n",
              "      height: 32px;\n",
              "      padding: 0 0 0 0;\n",
              "      width: 32px;\n",
              "    }\n",
              "\n",
              "    .colab-df-convert:hover {\n",
              "      background-color: #E2EBFA;\n",
              "      box-shadow: 0px 1px 2px rgba(60, 64, 67, 0.3), 0px 1px 3px 1px rgba(60, 64, 67, 0.15);\n",
              "      fill: #174EA6;\n",
              "    }\n",
              "\n",
              "    [theme=dark] .colab-df-convert {\n",
              "      background-color: #3B4455;\n",
              "      fill: #D2E3FC;\n",
              "    }\n",
              "\n",
              "    [theme=dark] .colab-df-convert:hover {\n",
              "      background-color: #434B5C;\n",
              "      box-shadow: 0px 1px 3px 1px rgba(0, 0, 0, 0.15);\n",
              "      filter: drop-shadow(0px 1px 2px rgba(0, 0, 0, 0.3));\n",
              "      fill: #FFFFFF;\n",
              "    }\n",
              "  </style>\n",
              "\n",
              "      <script>\n",
              "        const buttonEl =\n",
              "          document.querySelector('#df-b9c4e8ef-65b7-4d2b-ac99-d572ffb2c279 button.colab-df-convert');\n",
              "        buttonEl.style.display =\n",
              "          google.colab.kernel.accessAllowed ? 'block' : 'none';\n",
              "\n",
              "        async function convertToInteractive(key) {\n",
              "          const element = document.querySelector('#df-b9c4e8ef-65b7-4d2b-ac99-d572ffb2c279');\n",
              "          const dataTable =\n",
              "            await google.colab.kernel.invokeFunction('convertToInteractive',\n",
              "                                                     [key], {});\n",
              "          if (!dataTable) return;\n",
              "\n",
              "          const docLinkHtml = 'Like what you see? Visit the ' +\n",
              "            '<a target=\"_blank\" href=https://colab.research.google.com/notebooks/data_table.ipynb>data table notebook</a>'\n",
              "            + ' to learn more about interactive tables.';\n",
              "          element.innerHTML = '';\n",
              "          dataTable['output_type'] = 'display_data';\n",
              "          await google.colab.output.renderOutput(dataTable, element);\n",
              "          const docLink = document.createElement('div');\n",
              "          docLink.innerHTML = docLinkHtml;\n",
              "          element.appendChild(docLink);\n",
              "        }\n",
              "      </script>\n",
              "    </div>\n",
              "  </div>\n",
              "  "
            ]
          },
          "metadata": {},
          "execution_count": 6
        }
      ]
    },
    {
      "cell_type": "code",
      "source": [
        "def colorit(value):\n",
        "  if value < 1:\n",
        "    color = 'red'\n",
        "  elif value > 1:\n",
        "    color = 'green'\n",
        "  else:\n",
        "    color = 'yellow'\n",
        "\n",
        "  return 'color:%s' %color"
      ],
      "metadata": {
        "id": "58kqY1iYKB2s"
      },
      "execution_count": 7,
      "outputs": []
    },
    {
      "cell_type": "code",
      "source": [
        "df1 = df.style.applymap(colorit, subset = ['A','B','C'])"
      ],
      "metadata": {
        "id": "nEgCNnY1KfLK"
      },
      "execution_count": 8,
      "outputs": []
    },
    {
      "cell_type": "code",
      "source": [
        "df1"
      ],
      "metadata": {
        "colab": {
          "base_uri": "https://localhost:8080/",
          "height": 206
        },
        "id": "yk5n7goCKxdY",
        "outputId": "6dd00556-ff95-497f-c011-a825d9aacd17"
      },
      "execution_count": 9,
      "outputs": [
        {
          "output_type": "execute_result",
          "data": {
            "text/plain": [
              "<pandas.io.formats.style.Styler at 0x7ffaf39d3700>"
            ],
            "text/html": [
              "<style type=\"text/css\">\n",
              "#T_dda75_row0_col0, #T_dda75_row0_col1, #T_dda75_row1_col0, #T_dda75_row1_col1, #T_dda75_row1_col2, #T_dda75_row2_col2, #T_dda75_row3_col1, #T_dda75_row3_col2, #T_dda75_row4_col0, #T_dda75_row4_col2 {\n",
              "  color: green;\n",
              "}\n",
              "#T_dda75_row0_col2, #T_dda75_row2_col1, #T_dda75_row3_col0, #T_dda75_row4_col1 {\n",
              "  color: yellow;\n",
              "}\n",
              "#T_dda75_row2_col0 {\n",
              "  color: red;\n",
              "}\n",
              "</style>\n",
              "<table id=\"T_dda75_\" class=\"dataframe\">\n",
              "  <thead>\n",
              "    <tr>\n",
              "      <th class=\"blank level0\" >&nbsp;</th>\n",
              "      <th class=\"col_heading level0 col0\" >A</th>\n",
              "      <th class=\"col_heading level0 col1\" >B</th>\n",
              "      <th class=\"col_heading level0 col2\" >C</th>\n",
              "    </tr>\n",
              "  </thead>\n",
              "  <tbody>\n",
              "    <tr>\n",
              "      <th id=\"T_dda75_level0_row0\" class=\"row_heading level0 row0\" >0</th>\n",
              "      <td id=\"T_dda75_row0_col0\" class=\"data row0 col0\" >1.700000</td>\n",
              "      <td id=\"T_dda75_row0_col1\" class=\"data row0 col1\" >2</td>\n",
              "      <td id=\"T_dda75_row0_col2\" class=\"data row0 col2\" >nan</td>\n",
              "    </tr>\n",
              "    <tr>\n",
              "      <th id=\"T_dda75_level0_row1\" class=\"row_heading level0 row1\" >1</th>\n",
              "      <td id=\"T_dda75_row1_col0\" class=\"data row1 col0\" >2.000000</td>\n",
              "      <td id=\"T_dda75_row1_col1\" class=\"data row1 col1\" >54</td>\n",
              "      <td id=\"T_dda75_row1_col2\" class=\"data row1 col2\" >3.000000</td>\n",
              "    </tr>\n",
              "    <tr>\n",
              "      <th id=\"T_dda75_level0_row2\" class=\"row_heading level0 row2\" >2</th>\n",
              "      <td id=\"T_dda75_row2_col0\" class=\"data row2 col0\" >0.500000</td>\n",
              "      <td id=\"T_dda75_row2_col1\" class=\"data row2 col1\" >1</td>\n",
              "      <td id=\"T_dda75_row2_col2\" class=\"data row2 col2\" >2.000000</td>\n",
              "    </tr>\n",
              "    <tr>\n",
              "      <th id=\"T_dda75_level0_row3\" class=\"row_heading level0 row3\" >3</th>\n",
              "      <td id=\"T_dda75_row3_col0\" class=\"data row3 col0\" >1.000000</td>\n",
              "      <td id=\"T_dda75_row3_col1\" class=\"data row3 col1\" >23</td>\n",
              "      <td id=\"T_dda75_row3_col2\" class=\"data row3 col2\" >31.000000</td>\n",
              "    </tr>\n",
              "    <tr>\n",
              "      <th id=\"T_dda75_level0_row4\" class=\"row_heading level0 row4\" >4</th>\n",
              "      <td id=\"T_dda75_row4_col0\" class=\"data row4 col0\" >4.000000</td>\n",
              "      <td id=\"T_dda75_row4_col1\" class=\"data row4 col1\" >1</td>\n",
              "      <td id=\"T_dda75_row4_col2\" class=\"data row4 col2\" >5.000000</td>\n",
              "    </tr>\n",
              "  </tbody>\n",
              "</table>\n"
            ]
          },
          "metadata": {},
          "execution_count": 9
        }
      ]
    },
    {
      "cell_type": "code",
      "source": [],
      "metadata": {
        "id": "-D4CvYxrKzb9"
      },
      "execution_count": null,
      "outputs": []
    }
  ]
}